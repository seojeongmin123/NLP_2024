{
  "nbformat": 4,
  "nbformat_minor": 0,
  "metadata": {
    "colab": {
      "provenance": [],
      "authorship_tag": "ABX9TyNJsSfSSELVld1Q5WoK6DfB",
      "include_colab_link": true
    },
    "kernelspec": {
      "name": "python3",
      "display_name": "Python 3"
    },
    "language_info": {
      "name": "python"
    }
  },
  "cells": [
    {
      "cell_type": "markdown",
      "metadata": {
        "id": "view-in-github",
        "colab_type": "text"
      },
      "source": [
        "<a href=\"https://colab.research.google.com/github/seojeongmin123/NLP_2024/blob/main/MyMajor.ipynb\" target=\"_parent\"><img src=\"https://colab.research.google.com/assets/colab-badge.svg\" alt=\"Open In Colab\"/></a>"
      ]
    },
    {
      "cell_type": "markdown",
      "source": [
        "# **저의 <font color='red'>학과</font>를 소개합니다!!**\n",
        "\n",
        "## **1. 나의 학과**\n",
        "- ### 저의 학과는 **<font color='green'>사회복지학과</font>**입니다.👴👶\n",
        "\n",
        "\n",
        "## **2. 홍보 영상** ([방문하기](https://www.youtube.com/watch?v=WF03KwDeXZY))\n",
        "\n",
        "\n",
        "## **3. 학과 사이트**\n",
        "- ### 한남대학교 사회복지학과 ([방문하기](https://welfare.hannam.ac.kr/))\n",
        "\n",
        "## **4. 학과 소개**\n",
        "- ### 사회복지학과는 복지와 관련된 개인 및 사회적 문제 해결을 위해 전문적인 지식과 기술을 사용하는 전문 분야입니다. 📚\n",
        "##### 한남대학교 사회복지학과에서는 사회복지사로서 갖추어야 하는 사회복지의 윤리와 가치, 어려운 사람들을 도와주는 전문적인 기술과 방법, 사회복지제도와 정책, 그리고 다양한 사회적 서비스와 실천 현장을 공부하는 학과입니다.\n",
        "\n",
        "\n",
        "\n",
        "\n"
      ],
      "metadata": {
        "id": "_7PqPswy2koe"
      }
    },
    {
      "cell_type": "markdown",
      "source": [],
      "metadata": {
        "id": "8jntLvcYI3Zt"
      }
    },
    {
      "cell_type": "markdown",
      "source": [],
      "metadata": {
        "id": "IS3uTz1EI3Jy"
      }
    },
    {
      "cell_type": "markdown",
      "source": [],
      "metadata": {
        "id": "xuqai-HPI24w"
      }
    },
    {
      "cell_type": "markdown",
      "source": [
        "- 출처: [한남대학교 사회복지학과](https://welfare.hannam.ac.kr/introduction/), [한남대학교 유튜브](https://www.youtube.com/watch?v=WF03KwDeXZY)\n",
        "\n"
      ],
      "metadata": {
        "id": "FUKy3thm3imW"
      }
    }
  ]
}